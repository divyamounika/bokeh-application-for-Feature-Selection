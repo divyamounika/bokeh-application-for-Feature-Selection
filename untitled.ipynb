{
 "cells": [
  {
   "cell_type": "code",
   "execution_count": 1,
   "metadata": {},
   "outputs": [
    {
     "name": "stdout",
     "output_type": "stream",
     "text": [
      "Hello World\n"
     ]
    }
   ],
   "source": [
    "print('Hello World')"
   ]
  },
  {
   "cell_type": "code",
   "execution_count": 2,
   "metadata": {},
   "outputs": [
    {
     "name": "stdout",
     "output_type": "stream",
     "text": [
      "Please enter password:sunny\n",
      "Password is too short!\n"
     ]
    }
   ],
   "source": [
    "ip = input('Please enter password:')\n",
    "if len(ip) < 6:\n",
    "    print('Password is too short!')"
   ]
  },
  {
   "cell_type": "code",
   "execution_count": 3,
   "metadata": {},
   "outputs": [
    {
     "name": "stdout",
     "output_type": "stream",
     "text": [
      "Please enter a number:34\n",
      "Number is Even\n"
     ]
    }
   ],
   "source": [
    "num  = input('Please enter a number:')\n",
    "\n",
    "if int(num) % 2 == 0:\n",
    "    print('Number is Even')\n",
    "else:\n",
    "    print('Number is odd')"
   ]
  },
  {
   "cell_type": "code",
   "execution_count": 5,
   "metadata": {},
   "outputs": [
    {
     "name": "stdout",
     "output_type": "stream",
     "text": [
      "Enter a =2\n",
      "Enter b =3\n",
      "Enter c =4\n",
      "Scalene\n"
     ]
    }
   ],
   "source": [
    "a = int(input('Enter a ='))\n",
    "b = int(input('Enter b ='))\n",
    "c = int(input('Enter c ='))\n",
    "\n",
    "if a == b == c:\n",
    "    print('Equilateral')\n",
    "elif (a == b ) or (a == c) or (b == c):\n",
    "    print('Isosceles')\n",
    "else:\n",
    "    print('Scalene')"
   ]
  },
  {
   "cell_type": "code",
   "execution_count": 414,
   "metadata": {},
   "outputs": [
    {
     "data": {
      "text/plain": [
       "[1, 1, 2, 3, 5, 8, 13, 21, 34]"
      ]
     },
     "execution_count": 414,
     "metadata": {},
     "output_type": "execute_result"
    }
   ],
   "source": [
    "def fibonacci(n):\n",
    "    if n == 1:\n",
    "        return 1\n",
    "    if n == 2:\n",
    "        return 1\n",
    "    if n > 2:\n",
    "        return fibonacci(n-1) + fibonacci(n-2)\n",
    "\n",
    "[fibonacci(i) for i in range(1, 10)]"
   ]
  },
  {
   "cell_type": "code",
   "execution_count": 12,
   "metadata": {},
   "outputs": [],
   "source": [
    "def is_(year):\n",
    "    if ((year % 4 == 0) or (year % 400 == 0)) and (year % 100 != 0):\n",
    "        return True \n",
    "    else:\n",
    "        return False"
   ]
  },
  {
   "cell_type": "code",
   "execution_count": 52,
   "metadata": {},
   "outputs": [],
   "source": [
    "x = [['Harry', 37.21], ['Berry', 37.21], ['Tina', 37.2], ['Akriti', 41.0], ['Harsh', 39.0]]\n",
    "\n",
    "second = sorted(set([j for i, j in x]))[1]\n",
    "for i,j in x:\n",
    "    if j == second:\n",
    "        print(i)"
   ]
  },
  {
   "cell_type": "code",
   "execution_count": 59,
   "metadata": {},
   "outputs": [
    {
     "name": "stdout",
     "output_type": "stream",
     "text": [
      "HackerRank.com presents \"Pythonist 2\".\n"
     ]
    }
   ],
   "source": [
    "x = 'hACKERrANK.COM PRESENTS \"pYTHONIST 2\".'\n",
    "print(''.join([i.lower() if i.isupper() else i.upper() for i in x]))"
   ]
  },
  {
   "cell_type": "code",
   "execution_count": 61,
   "metadata": {},
   "outputs": [
    {
     "data": {
      "text/plain": [
       "'this-is-a-string'"
      ]
     },
     "execution_count": 61,
     "metadata": {},
     "output_type": "execute_result"
    }
   ],
   "source": [
    "a = 'this is a string'\n",
    "a = a.split(' ')\n",
    "\"-\".join(a)"
   ]
  },
  {
   "cell_type": "code",
   "execution_count": 81,
   "metadata": {},
   "outputs": [
    {
     "data": {
      "text/plain": [
       "2"
      ]
     },
     "execution_count": 81,
     "metadata": {},
     "output_type": "execute_result"
    }
   ],
   "source": [
    "s = 'ABCDCDC'\n",
    "ss = 'CDC'\n",
    "\n",
    "sum([1 for i in range(len(s) - 2) if s[i : i+3] == ss])"
   ]
  },
  {
   "cell_type": "code",
   "execution_count": 30,
   "metadata": {},
   "outputs": [
    {
     "name": "stdout",
     "output_type": "stream",
     "text": [
      "[1, 4, 9, 16, 25]\n"
     ]
    }
   ],
   "source": [
    "start_list = [5, 3, 1, 2, 4]\n",
    "square_list = []\n",
    "\n",
    "# Your code here!\n",
    "for i in start_list:\n",
    "    square_list.append(i ** 2)\n",
    "    square_list.sort()\n",
    "\n",
    "print(square_list)"
   ]
  },
  {
   "cell_type": "code",
   "execution_count": 31,
   "metadata": {},
   "outputs": [
    {
     "data": {
      "text/plain": [
       "3"
      ]
     },
     "execution_count": 31,
     "metadata": {},
     "output_type": "execute_result"
    }
   ],
   "source": [
    "def fizz_count(x):\n",
    "    count = 0\n",
    "    for i in x:\n",
    "        if i == 'fizz':\n",
    "            count = count + 1\n",
    "    return count\n",
    "        \n",
    "fizz_count(['fizz', 'buzz', 'fizz', 'fizz', 8, 'buzz', 'fIzZ'])"
   ]
  },
  {
   "cell_type": "code",
   "execution_count": 83,
   "metadata": {},
   "outputs": [
    {
     "data": {
      "text/plain": [
       "'MichaelLieberman'"
      ]
     },
     "execution_count": 83,
     "metadata": {},
     "output_type": "execute_result"
    }
   ],
   "source": [
    "n = [\"Michael\", \"Lieberman\"]\n",
    "\n",
    "def add_strings(lst):\n",
    "    result = ''\n",
    "    for i in lst:\n",
    "        result = result + i\n",
    "    return result\n",
    "\n",
    "add_strings(n)"
   ]
  },
  {
   "cell_type": "code",
   "execution_count": 33,
   "metadata": {},
   "outputs": [
    {
     "data": {
      "text/plain": [
       "[1, 2, 3, 4, 5, 6, 7, 8, 9]"
      ]
     },
     "execution_count": 33,
     "metadata": {},
     "output_type": "execute_result"
    }
   ],
   "source": [
    "n = [[1, 2, 3], [4, 5, 6, 7, 8, 9]]\n",
    "\n",
    "def flatten(lists):\n",
    "    results = []\n",
    "    for numbers in lists:\n",
    "        for i in numbers:\n",
    "            results.append(i)\n",
    "    return results\n",
    "\n",
    "flatten(n)"
   ]
  },
  {
   "cell_type": "code",
   "execution_count": 37,
   "metadata": {},
   "outputs": [
    {
     "data": {
      "text/plain": [
       "10"
      ]
     },
     "execution_count": 37,
     "metadata": {},
     "output_type": "execute_result"
    }
   ],
   "source": [
    "def digit_sum(n):\n",
    "    result = 0\n",
    "    for i in str(n):\n",
    "        result = result + int(i)\n",
    "    return result\n",
    "\n",
    "digit_sum(1234)"
   ]
  },
  {
   "cell_type": "code",
   "execution_count": 86,
   "metadata": {},
   "outputs": [
    {
     "data": {
      "text/plain": [
       "40320"
      ]
     },
     "execution_count": 86,
     "metadata": {},
     "output_type": "execute_result"
    }
   ],
   "source": [
    "def factorial(x):\n",
    "    if x == 1:\n",
    "        return 1\n",
    "    elif x > 1:\n",
    "        return x * factorial(x-1)\n",
    "\n",
    "factorial(8)  "
   ]
  },
  {
   "cell_type": "code",
   "execution_count": 39,
   "metadata": {},
   "outputs": [
    {
     "data": {
      "text/plain": [
       "True"
      ]
     },
     "execution_count": 39,
     "metadata": {},
     "output_type": "execute_result"
    }
   ],
   "source": [
    "def is_prime(x):\n",
    "    if x < 2:\n",
    "        return False\n",
    "    for n in range(2, x):\n",
    "        if x%n == 0:\n",
    "            return False\n",
    "    else:\n",
    "        return True\n",
    "    \n",
    "is_prime(29)"
   ]
  },
  {
   "cell_type": "code",
   "execution_count": 415,
   "metadata": {},
   "outputs": [
    {
     "data": {
      "text/plain": [
       "'ynnus'"
      ]
     },
     "execution_count": 415,
     "metadata": {},
     "output_type": "execute_result"
    }
   ],
   "source": [
    "def rev(text):\n",
    "    string = ''\n",
    "    for i in range(len(text)):\n",
    "        string  = string + text[-(i+1)]\n",
    "    return string\n",
    "\n",
    "rev('sunny')"
   ]
  },
  {
   "cell_type": "code",
   "execution_count": 416,
   "metadata": {},
   "outputs": [
    {
     "data": {
      "text/plain": [
       "'dnshvswtjgrrmsnny'"
      ]
     },
     "execution_count": 416,
     "metadata": {},
     "output_type": "execute_result"
    }
   ],
   "source": [
    "def anti_vowel(text):\n",
    "    result = ''\n",
    "    for i in text:\n",
    "        if i.lower() not in \"aeiou\":\n",
    "            result = result + i\n",
    "    return result\n",
    "\n",
    "anti_vowel('dineshviswatejagurramsunny')"
   ]
  },
  {
   "cell_type": "code",
   "execution_count": 418,
   "metadata": {},
   "outputs": [
    {
     "name": "stdout",
     "output_type": "stream",
     "text": [
      "H e y   f e l l o w   w a r r i o r s\n"
     ]
    }
   ],
   "source": [
    "sentence = 'Hey fellow warriors'\n",
    "def spin_words(sentence):\n",
    "    result = []\n",
    "    for i in sentence:\n",
    "        result.append(i)\n",
    "    return result\n",
    "            \n",
    "asd = spin_words(sentence)  \n",
    "print(*asd)"
   ]
  },
  {
   "cell_type": "code",
   "execution_count": 45,
   "metadata": {},
   "outputs": [
    {
     "data": {
      "text/plain": [
       "8"
      ]
     },
     "execution_count": 45,
     "metadata": {},
     "output_type": "execute_result"
    }
   ],
   "source": [
    "score = {\"a\": 1, \"c\": 3, \"b\": 3, \"e\": 1, \"d\": 2, \"g\": 2, \n",
    "         \"f\": 4, \"i\": 1, \"h\": 4, \"k\": 5, \"j\": 8, \"m\": 3, \n",
    "         \"l\": 1, \"o\": 1, \"n\": 1, \"q\": 10, \"p\": 3, \"s\": 1, \n",
    "         \"r\": 1, \"u\": 1, \"t\": 1, \"w\": 4, \"v\": 4, \"y\": 4, \n",
    "         \"x\": 8, \"z\": 10}\n",
    "\n",
    "def scrabble_score(word):\n",
    "    new_word = word.lower()\n",
    "    result = 0\n",
    "    for i in new_word:\n",
    "        result = result + score[i]\n",
    "    return result\n",
    "\n",
    "scrabble_score('SUNNY')"
   ]
  },
  {
   "cell_type": "code",
   "execution_count": 420,
   "metadata": {},
   "outputs": [
    {
     "data": {
      "text/plain": [
       "'my name is ******'"
      ]
     },
     "execution_count": 420,
     "metadata": {},
     "output_type": "execute_result"
    }
   ],
   "source": [
    "def censor(text, word):\n",
    "    my_list = text.split(' ')\n",
    "    for i in my_list:\n",
    "        if i == word:\n",
    "            result = text.replace(word, '*'*len(word))\n",
    "    return result\n",
    "\n",
    "censor('my name is dinesh', 'dinesh')"
   ]
  },
  {
   "cell_type": "code",
   "execution_count": 47,
   "metadata": {},
   "outputs": [
    {
     "data": {
      "text/plain": [
       "[2, 4, 6, 8]"
      ]
     },
     "execution_count": 47,
     "metadata": {},
     "output_type": "execute_result"
    }
   ],
   "source": [
    "def purify(x):\n",
    "    new_list = []\n",
    "    for i in x:\n",
    "        if i%2 == 0:\n",
    "            new_list.append(i)\n",
    "      \n",
    "    return new_list\n",
    "\n",
    "purify([1,2,3,4,5,6,7,8,9])"
   ]
  },
  {
   "cell_type": "code",
   "execution_count": 48,
   "metadata": {},
   "outputs": [
    {
     "data": {
      "text/plain": [
       "4.5"
      ]
     },
     "execution_count": 48,
     "metadata": {},
     "output_type": "execute_result"
    }
   ],
   "source": [
    "def median(my_list):\n",
    "    my_list.sort()\n",
    "    \n",
    "    if len(my_list) % 2 != 0:\n",
    "        return my_list[int((len(my_list) - 1)/2)]\n",
    "    else:\n",
    "        return (my_list[int(len(my_list)/2) - 1] + my_list[int(len(my_list)/2)]) / 2\n",
    "\n",
    "median([4,5,5,4])"
   ]
  },
  {
   "cell_type": "code",
   "execution_count": 421,
   "metadata": {},
   "outputs": [
    {
     "name": "stdout",
     "output_type": "stream",
     "text": [
      "36 49 64\n"
     ]
    }
   ],
   "source": [
    "squares = [i ** 2 for i in range(1, 11)]\n",
    "print(*filter(lambda x: x >= 30 and x <= 70, squares ))"
   ]
  },
  {
   "cell_type": "code",
   "execution_count": 423,
   "metadata": {},
   "outputs": [
    {
     "name": "stdout",
     "output_type": "stream",
     "text": [
      "2\n",
      "3\n",
      "5\n",
      "7\n",
      "11\n",
      "13\n",
      "17\n",
      "19\n"
     ]
    }
   ],
   "source": [
    "#prime numbers\n",
    "\n",
    "def prime_numbers(n):\n",
    "        for i in range(2,n+1):\n",
    "            for j in range(2, i):\n",
    "                if i%j == 0:\n",
    "                    break\n",
    "            else:\n",
    "                print(i)\n",
    "\n",
    "prime_numbers(20)"
   ]
  },
  {
   "cell_type": "code",
   "execution_count": 429,
   "metadata": {},
   "outputs": [
    {
     "data": {
      "text/plain": [
       "[0, 1, 1, 2, 3, 5, 8, 13, 21, 34]"
      ]
     },
     "execution_count": 429,
     "metadata": {},
     "output_type": "execute_result"
    }
   ],
   "source": [
    " def fibo(n):\n",
    "        a, b = 0, 1\n",
    "        for i in range(n):\n",
    "            a, b = b, a+b\n",
    "        return a\n",
    "\n",
    "[fibo(i) for i in range(10)]"
   ]
  },
  {
   "cell_type": "code",
   "execution_count": 35,
   "metadata": {},
   "outputs": [
    {
     "name": "stdout",
     "output_type": "stream",
     "text": [
      "[1, 1, 2, 3, 5, 8, 13, 21, 34, 55, 89]\n"
     ]
    }
   ],
   "source": [
    "def feb_to(n):\n",
    "    fibs = [1,1]\n",
    "    for i in range(2, n+1):\n",
    "        fibs.append(fibs[-1] + fibs[-2])\n",
    "    return fibs\n",
    "\n",
    "print(feb_to(10))"
   ]
  },
  {
   "cell_type": "code",
   "execution_count": 430,
   "metadata": {},
   "outputs": [
    {
     "data": {
      "text/html": [
       "<div>\n",
       "<style scoped>\n",
       "    .dataframe tbody tr th:only-of-type {\n",
       "        vertical-align: middle;\n",
       "    }\n",
       "\n",
       "    .dataframe tbody tr th {\n",
       "        vertical-align: top;\n",
       "    }\n",
       "\n",
       "    .dataframe thead th {\n",
       "        text-align: right;\n",
       "    }\n",
       "</style>\n",
       "<table border=\"1\" class=\"dataframe\">\n",
       "  <thead>\n",
       "    <tr style=\"text-align: right;\">\n",
       "      <th></th>\n",
       "      <th>RowNumber</th>\n",
       "      <th>CustomerId</th>\n",
       "      <th>Surname</th>\n",
       "      <th>CreditScore</th>\n",
       "      <th>Geography</th>\n",
       "      <th>Gender</th>\n",
       "      <th>Age</th>\n",
       "      <th>Tenure</th>\n",
       "      <th>Balance</th>\n",
       "      <th>NumOfProducts</th>\n",
       "      <th>HasCrCard</th>\n",
       "      <th>IsActiveMember</th>\n",
       "      <th>EstimatedSalary</th>\n",
       "      <th>Exited</th>\n",
       "    </tr>\n",
       "  </thead>\n",
       "  <tbody>\n",
       "    <tr>\n",
       "      <th>0</th>\n",
       "      <td>1</td>\n",
       "      <td>15634602</td>\n",
       "      <td>Hargrave</td>\n",
       "      <td>619</td>\n",
       "      <td>France</td>\n",
       "      <td>Female</td>\n",
       "      <td>42</td>\n",
       "      <td>2</td>\n",
       "      <td>0.00</td>\n",
       "      <td>1</td>\n",
       "      <td>1</td>\n",
       "      <td>1</td>\n",
       "      <td>101348.88</td>\n",
       "      <td>1</td>\n",
       "    </tr>\n",
       "    <tr>\n",
       "      <th>1</th>\n",
       "      <td>2</td>\n",
       "      <td>15647311</td>\n",
       "      <td>Hill</td>\n",
       "      <td>608</td>\n",
       "      <td>Spain</td>\n",
       "      <td>Female</td>\n",
       "      <td>41</td>\n",
       "      <td>1</td>\n",
       "      <td>83807.86</td>\n",
       "      <td>1</td>\n",
       "      <td>0</td>\n",
       "      <td>1</td>\n",
       "      <td>112542.58</td>\n",
       "      <td>0</td>\n",
       "    </tr>\n",
       "    <tr>\n",
       "      <th>2</th>\n",
       "      <td>3</td>\n",
       "      <td>15619304</td>\n",
       "      <td>Onio</td>\n",
       "      <td>502</td>\n",
       "      <td>France</td>\n",
       "      <td>Female</td>\n",
       "      <td>42</td>\n",
       "      <td>8</td>\n",
       "      <td>159660.80</td>\n",
       "      <td>3</td>\n",
       "      <td>1</td>\n",
       "      <td>0</td>\n",
       "      <td>113931.57</td>\n",
       "      <td>1</td>\n",
       "    </tr>\n",
       "    <tr>\n",
       "      <th>3</th>\n",
       "      <td>4</td>\n",
       "      <td>15701354</td>\n",
       "      <td>Boni</td>\n",
       "      <td>699</td>\n",
       "      <td>France</td>\n",
       "      <td>Female</td>\n",
       "      <td>39</td>\n",
       "      <td>1</td>\n",
       "      <td>0.00</td>\n",
       "      <td>2</td>\n",
       "      <td>0</td>\n",
       "      <td>0</td>\n",
       "      <td>93826.63</td>\n",
       "      <td>0</td>\n",
       "    </tr>\n",
       "    <tr>\n",
       "      <th>4</th>\n",
       "      <td>5</td>\n",
       "      <td>15737888</td>\n",
       "      <td>Mitchell</td>\n",
       "      <td>850</td>\n",
       "      <td>Spain</td>\n",
       "      <td>Female</td>\n",
       "      <td>43</td>\n",
       "      <td>2</td>\n",
       "      <td>125510.82</td>\n",
       "      <td>1</td>\n",
       "      <td>1</td>\n",
       "      <td>1</td>\n",
       "      <td>79084.10</td>\n",
       "      <td>0</td>\n",
       "    </tr>\n",
       "  </tbody>\n",
       "</table>\n",
       "</div>"
      ],
      "text/plain": [
       "   RowNumber  CustomerId   Surname  CreditScore Geography  Gender  Age  \\\n",
       "0          1    15634602  Hargrave          619    France  Female   42   \n",
       "1          2    15647311      Hill          608     Spain  Female   41   \n",
       "2          3    15619304      Onio          502    France  Female   42   \n",
       "3          4    15701354      Boni          699    France  Female   39   \n",
       "4          5    15737888  Mitchell          850     Spain  Female   43   \n",
       "\n",
       "   Tenure    Balance  NumOfProducts  HasCrCard  IsActiveMember  \\\n",
       "0       2       0.00              1          1               1   \n",
       "1       1   83807.86              1          0               1   \n",
       "2       8  159660.80              3          1               0   \n",
       "3       1       0.00              2          0               0   \n",
       "4       2  125510.82              1          1               1   \n",
       "\n",
       "   EstimatedSalary  Exited  \n",
       "0        101348.88       1  \n",
       "1        112542.58       0  \n",
       "2        113931.57       1  \n",
       "3         93826.63       0  \n",
       "4         79084.10       0  "
      ]
     },
     "execution_count": 430,
     "metadata": {},
     "output_type": "execute_result"
    }
   ],
   "source": [
    "import pandas as pd\n",
    "data = pd.read_csv('Churn_Modelling.csv')\n",
    "data.head()"
   ]
  },
  {
   "cell_type": "code",
   "execution_count": 431,
   "metadata": {},
   "outputs": [
    {
     "data": {
      "text/plain": [
       "Gender\n",
       "Female    4543\n",
       "Male      5457\n",
       "Name: Gender, dtype: int64"
      ]
     },
     "execution_count": 431,
     "metadata": {},
     "output_type": "execute_result"
    }
   ],
   "source": [
    "data.groupby('Gender')['Gender'].count()"
   ]
  },
  {
   "cell_type": "markdown",
   "metadata": {},
   "source": [
    "## Binary Search."
   ]
  },
  {
   "cell_type": "code",
   "execution_count": 64,
   "metadata": {},
   "outputs": [
    {
     "data": {
      "text/plain": [
       "True"
      ]
     },
     "execution_count": 64,
     "metadata": {},
     "output_type": "execute_result"
    }
   ],
   "source": [
    "#Linear Search\n",
    "\n",
    "def linear_search(data, target):\n",
    "    for i in range(len(data)):\n",
    "        if data[i] == target:\n",
    "            return True\n",
    "    return False\n",
    "\n",
    "a = [1,2,3,4,5,6,7,8,9,10]\n",
    "\n",
    "linear_search(a, target= 6)"
   ]
  },
  {
   "cell_type": "code",
   "execution_count": 69,
   "metadata": {},
   "outputs": [
    {
     "data": {
      "text/plain": [
       "True"
      ]
     },
     "execution_count": 69,
     "metadata": {},
     "output_type": "execute_result"
    }
   ],
   "source": [
    "# Binary Search\n",
    "\n",
    "def binary_search(data, target):\n",
    "    low = 0\n",
    "    high = len(data) - 1\n",
    "    while low <= high:\n",
    "        mid = (low + high) // 2\n",
    "        if target == data[mid]:\n",
    "            return True\n",
    "        elif target > data[mid]:\n",
    "            low = mid + 1\n",
    "        else:\n",
    "            high = mid - 1\n",
    "    return False\n",
    "\n",
    "binary_search(a, target= 1)"
   ]
  },
  {
   "cell_type": "code",
   "execution_count": 74,
   "metadata": {},
   "outputs": [
    {
     "data": {
      "text/plain": [
       "False"
      ]
     },
     "execution_count": 74,
     "metadata": {},
     "output_type": "execute_result"
    }
   ],
   "source": [
    "# Recursive Binary Search\n",
    "\n",
    "def recursive_binary_search(data, target, low, high):\n",
    "    if low > high:\n",
    "        return False\n",
    "    else:\n",
    "        mid = (low + high) // 2\n",
    "        if target == data[mid]:\n",
    "            return True\n",
    "        elif target < data[mid]:\n",
    "            return recursive_binary_search(data, target, low, mid - 1)\n",
    "        else:\n",
    "            return recursive_binary_search(data, target, mid + 1, high)\n",
    "        \n",
    "recursive_binary_search(a, 21, 0, len(a)-1)"
   ]
  },
  {
   "cell_type": "markdown",
   "metadata": {},
   "source": [
    "## Finding Upper Case letter."
   ]
  },
  {
   "cell_type": "code",
   "execution_count": 434,
   "metadata": {},
   "outputs": [
    {
     "name": "stdout",
     "output_type": "stream",
     "text": [
      "P\n",
      "D\n",
      "No Upper-Case Character found.\n"
     ]
    }
   ],
   "source": [
    "input_str_1 = \"lucidProgramming\"\n",
    "input_str_2 = \"luciDProgramming\"\n",
    "input_str_3 = \"lucidprogramming\"\n",
    "\n",
    "def find_uppercase_iterative(input_str):\n",
    "    for i in input_str:\n",
    "        if i == i.upper():\n",
    "            return i\n",
    "    return 'No Upper-Case Character found.'\n",
    "\n",
    "print(find_uppercase_iterative(input_str_1))\n",
    "print(find_uppercase_iterative(input_str_2))\n",
    "print(find_uppercase_iterative(input_str_3))"
   ]
  },
  {
   "cell_type": "markdown",
   "metadata": {},
   "source": [
    "## Palindrome."
   ]
  },
  {
   "cell_type": "code",
   "execution_count": 126,
   "metadata": {},
   "outputs": [
    {
     "name": "stdout",
     "output_type": "stream",
     "text": [
      "True\n"
     ]
    }
   ],
   "source": [
    "ns = ''.join([i.lower() for i in s if i.isalpha()])\n",
    "print(ns == ns[::-1])"
   ]
  },
  {
   "cell_type": "code",
   "execution_count": 141,
   "metadata": {},
   "outputs": [
    {
     "data": {
      "text/plain": [
       "True"
      ]
     },
     "execution_count": 141,
     "metadata": {},
     "output_type": "execute_result"
    }
   ],
   "source": [
    "s = 'Was it a cat I saW?'\n",
    "\n",
    "def is_palindrome(sentence):\n",
    "    i = 0\n",
    "    j = len(s) - 1\n",
    "    while i < j:\n",
    "        while not s[i].isalnum() and i < j:\n",
    "            i += 1\n",
    "        while not s[j].isalnum() and i < j:\n",
    "            j -= 1\n",
    "        if s[i].lower() != s[j].lower():\n",
    "            return False\n",
    "        i += 1\n",
    "        j -= 1\n",
    "    return True\n",
    "\n",
    "is_palindrome(s)"
   ]
  },
  {
   "cell_type": "code",
   "execution_count": 435,
   "metadata": {},
   "outputs": [
    {
     "name": "stdout",
     "output_type": "stream",
     "text": [
      "hari, sunil and 2 others like this\n"
     ]
    }
   ],
   "source": [
    "def likes(names):\n",
    "    if len(names) == 0:\n",
    "        return 'no one likes this'\n",
    "    elif len(names) == 1:\n",
    "        return str(names[0]) + ' likes this'\n",
    "    elif len(names) == 2:\n",
    "        return str(names[0]) + ' and ' + str(names[1]) +' like this'\n",
    "    elif len(names) == 3:\n",
    "        return str(names[0]) + ', ' + str(names[1]) + ' and ' + str(names[2]) +' like this'\n",
    "    else :\n",
    "        return str(names[0]) + ', ' + str(names[1]) + ' and ' + str(len(names) - 2) + ' others like this'\n",
    "        \n",
    "print(likes(['hari','sunil','nani','mohit']))"
   ]
  },
  {
   "cell_type": "code",
   "execution_count": 436,
   "metadata": {},
   "outputs": [],
   "source": [
    "def make_negative( number ):\n",
    "    if number > 0:\n",
    "        return -(number)\n",
    "    else:\n",
    "        return number "
   ]
  },
  {
   "cell_type": "code",
   "execution_count": 437,
   "metadata": {},
   "outputs": [
    {
     "data": {
      "text/plain": [
       "{'Adwords': 44001, 'Facebook': 162139, 'Influencer': 11913, 'Taboola': 69689}"
      ]
     },
     "execution_count": 437,
     "metadata": {},
     "output_type": "execute_result"
    }
   ],
   "source": [
    "path = 'lead_gen.csv'\n",
    "data = [x.strip().split(',') for x in open(path)]\n",
    "data_1 = data[1:]\n",
    "source = [i[0] for i in data_1]\n",
    "count_dict = {}\n",
    "\n",
    "for i in source:\n",
    "    if i not in count_dict:\n",
    "        count_dict[i] = 1\n",
    "    else:\n",
    "        count_dict[i] += 1\n",
    "        \n",
    "count_dict"
   ]
  },
  {
   "cell_type": "code",
   "execution_count": 368,
   "metadata": {},
   "outputs": [
    {
     "name": "stdout",
     "output_type": "stream",
     "text": [
      "(1, 4) (1, 5) (1, 6) (2, 4) (2, 5) (2, 6) (3, 4) (3, 5) (3, 6)\n"
     ]
    }
   ],
   "source": [
    "a = [1,2,3]\n",
    "b = [4,5,6]\n",
    "\n",
    "print(*[(i,j) for i in a for j in b])"
   ]
  },
  {
   "cell_type": "code",
   "execution_count": 147,
   "metadata": {},
   "outputs": [
    {
     "name": "stdout",
     "output_type": "stream",
     "text": [
      "a\n",
      "b\n",
      "c\n",
      "ab\n",
      "ac\n",
      "ba\n",
      "bc\n",
      "ca\n",
      "cb\n"
     ]
    }
   ],
   "source": [
    "x = 'hack'\n",
    "\n",
    "def abc(sentence):\n",
    "    for i in sentence:\n",
    "        print(i)\n",
    "    for i in sentence:\n",
    "        for j in sentence:\n",
    "            if i != j:\n",
    "                print(i+j)\n",
    "                \n",
    "abc('abc')"
   ]
  },
  {
   "cell_type": "code",
   "execution_count": 438,
   "metadata": {},
   "outputs": [
    {
     "name": "stdout",
     "output_type": "stream",
     "text": [
      "dinesh is name My\n"
     ]
    },
    {
     "data": {
      "text/plain": [
       "'hsenid si eman yM'"
      ]
     },
     "execution_count": 438,
     "metadata": {},
     "output_type": "execute_result"
    }
   ],
   "source": [
    "s = 'My name is dinesh'\n",
    "\n",
    "print(' '.join(reversed(s.split())))\n",
    "s[::-1]"
   ]
  },
  {
   "cell_type": "code",
   "execution_count": 365,
   "metadata": {},
   "outputs": [
    {
     "data": {
      "text/plain": [
       "True"
      ]
     },
     "execution_count": 365,
     "metadata": {},
     "output_type": "execute_result"
    }
   ],
   "source": [
    "s = \"Madam I'm Adam\"\n",
    "\n",
    "def palindrome(sentence):\n",
    "    ns = ''.join([i.lower() for i in s if i.isalnum()])\n",
    "    if ns == ns[::-1]:\n",
    "        return True\n",
    "    else:\n",
    "        return False\n",
    "    \n",
    "palindrome(s)"
   ]
  },
  {
   "cell_type": "code",
   "execution_count": 338,
   "metadata": {},
   "outputs": [
    {
     "data": {
      "text/plain": [
       "True"
      ]
     },
     "execution_count": 338,
     "metadata": {},
     "output_type": "execute_result"
    }
   ],
   "source": [
    "s = '?ra93ts live on no evil st39ar?'\n",
    "def palindo(sentence):\n",
    "    i = 0\n",
    "    j = len(sentence) - 1\n",
    "    while i < j:\n",
    "        while not sentence[i].isalnum() and i < j:\n",
    "            i += 1\n",
    "        while not sentence[j].isalnum() and i < j:\n",
    "            j -= 1\n",
    "        if sentence[i].lower() != sentence[j].lower():\n",
    "            return False\n",
    "        i += 1\n",
    "        j -= 1\n",
    "    return True\n",
    "\n",
    "palindo(s)"
   ]
  },
  {
   "cell_type": "code",
   "execution_count": 364,
   "metadata": {},
   "outputs": [
    {
     "data": {
      "text/plain": [
       "'3a2b2c2a2d'"
      ]
     },
     "execution_count": 364,
     "metadata": {},
     "output_type": "execute_result"
    }
   ],
   "source": [
    "Q = 'aaabbccaadd'\n",
    "a = '3a2b2b2a2d'\n",
    "\n",
    "\n",
    "def str_comp(string):\n",
    "    \n",
    "    result = ''\n",
    "    count = 1\n",
    "    \n",
    "    for i in range(len(string)-1):\n",
    "        if string[i] == string[i+1]:\n",
    "            count  = count + 1\n",
    "        else:\n",
    "            result += str(count) + string[i]\n",
    "            count = 1\n",
    "    result += str(count) + string[i]   \n",
    "    return result\n",
    "\n",
    "str_comp(Q)"
   ]
  },
  {
   "cell_type": "code",
   "execution_count": 356,
   "metadata": {},
   "outputs": [
    {
     "name": "stdout",
     "output_type": "stream",
     "text": [
      "8\n"
     ]
    }
   ],
   "source": [
    "q = 'springBOard'\n",
    "r = ''\n",
    "for i in q:\n",
    "    if i.lower() not in 'aeiou':\n",
    "        r += i\n",
    "print(len(r))      "
   ]
  },
  {
   "cell_type": "code",
   "execution_count": 397,
   "metadata": {},
   "outputs": [
    {
     "name": "stdout",
     "output_type": "stream",
     "text": [
      "('7629', '99986.98')\n"
     ]
    }
   ],
   "source": [
    "path = 'Churn_Modelling.csv'\n",
    "\n",
    "data = [i.strip().split(',') for i in open(path)]\n",
    "data_wo_header = data[1:]\n",
    "credit_score = [i[3] for i in data_wo_header] \n",
    "row_number = [i[0] for i in data_wo_header] \n",
    "Balance =  [i[8] for i in data_wo_header] \n",
    "\n",
    "\n",
    "x = list(zip(row_number, Balance))\n",
    "\n",
    "print(*[(i,j) for i,j in x if j == max(Balance)])\n"
   ]
  },
  {
   "cell_type": "code",
   "execution_count": 408,
   "metadata": {},
   "outputs": [
    {
     "data": {
      "text/plain": [
       "[1, 2, 3, 4, 5, 6, 7, 8, 8, 9]"
      ]
     },
     "execution_count": 408,
     "metadata": {},
     "output_type": "execute_result"
    }
   ],
   "source": [
    "def bsort(a):\n",
    "    for i in range(0, len(a) - 1):\n",
    "        for j in range(0, len(a) -1 -i):\n",
    "            if a[j] > a[j+1]:\n",
    "                a[j], a[j+1] = a[j+1], a[j]\n",
    "    return a\n",
    "\n",
    "bsort([9,8,8,7,6,5,4,3,2,1])"
   ]
  },
  {
   "cell_type": "code",
   "execution_count": 410,
   "metadata": {},
   "outputs": [
    {
     "data": {
      "text/plain": [
       "[1, 2, 3, 4, 5, 6, 7, 8, 8, 9]"
      ]
     },
     "execution_count": 410,
     "metadata": {},
     "output_type": "execute_result"
    }
   ],
   "source": [
    "def select_sort(b):\n",
    "    for i in range(0,len(b) - 1):\n",
    "        minindex = i\n",
    "        for j in range(i+1, len(b)):\n",
    "            if b[minindex] > b[j]:\n",
    "                minindex = j\n",
    "        if minindex != i:\n",
    "            b[i],b[minindex] =  b[minindex],b[i]\n",
    "    return b\n",
    "\n",
    "select_sort([9,8,8,7,6,5,4,3,2,1])"
   ]
  }
 ],
 "metadata": {
  "kernelspec": {
   "display_name": "Python 3",
   "language": "python",
   "name": "python3"
  },
  "language_info": {
   "codemirror_mode": {
    "name": "ipython",
    "version": 3
   },
   "file_extension": ".py",
   "mimetype": "text/x-python",
   "name": "python",
   "nbconvert_exporter": "python",
   "pygments_lexer": "ipython3",
   "version": "3.6.4"
  }
 },
 "nbformat": 4,
 "nbformat_minor": 2
}
